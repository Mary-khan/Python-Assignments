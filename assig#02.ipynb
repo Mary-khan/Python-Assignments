{
 "cells": [
  {
   "cell_type": "code",
   "execution_count": 7,
   "metadata": {},
   "outputs": [
    {
     "name": "stdout",
     "output_type": "stream",
     "text": [
      "Enter your marks of Chemistry: 100\n",
      "Enter your marks of Maths: 99\n",
      "Enter your marks of Physics: 99\n",
      "Enter your marks of English: 95\n",
      "Enter your marks of Computer: 91\n",
      "Your marks of Chemistry is:  100\n",
      "Your marks of Maths is:  99\n",
      "Your marks of physics is:  99\n",
      "Your marks of English is:  95\n",
      "Your marks of Computer is:  91\n",
      "Your total marks is:  484\n",
      "Your Percentage is:  96.8\n",
      "Congratulations You Secured A+ Grade\n"
     ]
    }
   ],
   "source": [
    "\"\"\"1. Write a program which takes 5 inputs from user for different subject’s marks, total it and generate mark sheet using grades ?\"\"\"\n",
    "\n",
    "Chemistry = int(input(\"Enter your marks of Chemistry: \"))\n",
    "Maths = int(input(\"Enter your marks of Maths: \"))\n",
    "physics = int(input(\"Enter your marks of Physics: \"))\n",
    "English = int(input(\"Enter your marks of English: \"))\n",
    "Computer = int(input(\"Enter your marks of Computer: \"))\n",
    "\n",
    "obtain = Chemistry + Maths + physics + English + Computer\n",
    "total=500\n",
    "Percentage = (obtain/total)*100\n",
    "\n",
    "\n",
    "print(\"Your marks of Chemistry is: \" , Chemistry)\n",
    "print(\"Your marks of Maths is: \" , Maths)\n",
    "print(\"Your marks of physics is: \" ,physics)\n",
    "print(\"Your marks of English is: \" , English)\n",
    "print(\"Your marks of Computer is: \" , Computer)\n",
    "\n",
    "print(\"Your total marks is: \" , obtain)\n",
    "\n",
    "print(\"Your Percentage is: \" , Percentage)\n",
    "\n",
    "\n",
    "if Percentage >= 80:\n",
    "    print(\"Congratulations You Secured A+ Grade\")\n",
    "elif Percentage >= 70 and Percentage < 80:\n",
    "    print(\"Congratulations You Secured A Grade\")\n",
    "elif Percentage >= 60 and Percentage < 70:\n",
    "    print(\"Congratulations You Secured B Grade\")\n",
    "elif Percentage >= 50 and Percentage < 60:\n",
    "    print(\"You Secured C Grade : NEED TO WORK HARD\")\n",
    "else:\n",
    "    print(\"Fail\")"
   ]
  },
  {
   "cell_type": "markdown",
   "metadata": {},
   "source": []
  },
  {
   "cell_type": "code",
   "execution_count": 10,
   "metadata": {},
   "outputs": [
    {
     "name": "stdout",
     "output_type": "stream",
     "text": [
      "Enter the number : 4\n",
      "The given number is even\n"
     ]
    }
   ],
   "source": [
    "\"\"\"2. Write a program which take input from user and identify that the given number is even or odd?\"\"\"\n",
    "\n",
    "number = int(input(\"Enter the number : \"))\n",
    "if (number % 2) == 0:\n",
    "    print(\"The given number is even\")\n",
    "else:\n",
    "    print(\"The given number is odd\")"
   ]
  },
  {
   "cell_type": "code",
   "execution_count": 12,
   "metadata": {},
   "outputs": [
    {
     "name": "stdout",
     "output_type": "stream",
     "text": [
      "The length of your list is :  10\n"
     ]
    }
   ],
   "source": [
    "\"\"\"3. Write a program which print the length of the list?\"\"\"\n",
    "\n",
    "list1 = [1,2,3,4,5,6,7,8,9,10]\n",
    "print(\"The length of your list is : \", len(list1))"
   ]
  },
  {
   "cell_type": "code",
   "execution_count": 13,
   "metadata": {},
   "outputs": [
    {
     "name": "stdout",
     "output_type": "stream",
     "text": [
      "The total sum of your list is :  55\n"
     ]
    }
   ],
   "source": [
    "\"\"\"4. Write a Python program to sum all the numeric items in a list?\"\"\"\n",
    "\n",
    "sum_of_list = [1,2,3,4,5,6,7,8,9,10]\n",
    "print(\"The total sum of your list is : \", sum(sum_of_list))"
   ]
  },
  {
   "cell_type": "code",
   "execution_count": 17,
   "metadata": {},
   "outputs": [
    {
     "name": "stdout",
     "output_type": "stream",
     "text": [
      "The largest number of your list is :  100\n"
     ]
    }
   ],
   "source": [
    "\"\"\"5. Write a Python program to get the largest number from a numeric list.?\"\"\"\n",
    "\n",
    "list_2 = [11,22,33,44,55,66,77,88,99,100]\n",
    "print(\"The largest number of your list is : \", max(list_2))"
   ]
  },
  {
   "cell_type": "code",
   "execution_count": 18,
   "metadata": {},
   "outputs": [
    {
     "name": "stdout",
     "output_type": "stream",
     "text": [
      "The numbers which are less than 5 in your list are : \n",
      "1\n",
      "2\n",
      "3\n",
      "4\n",
      "0\n"
     ]
    }
   ],
   "source": [
    "\"\"\"6. Write a program that prints out all the elements of the list that are less than 5.\"\"\"\n",
    "\n",
    "list_3 = [1,2,3,4,5,66,77,88,99,0]\n",
    "print(\"The numbers which are less than 5 in your list are : \")\n",
    "\n",
    "for i in list_3:\n",
    "    \n",
    "    if i < 5:\n",
    "\n",
    "        print(i)"
   ]
  },
  {
   "cell_type": "code",
   "execution_count": null,
   "metadata": {},
   "outputs": [],
   "source": []
  }
 ],
 "metadata": {
  "kernelspec": {
   "display_name": "Python 3",
   "language": "python",
   "name": "python3"
  },
  "language_info": {
   "codemirror_mode": {
    "name": "ipython",
    "version": 3
   },
   "file_extension": ".py",
   "mimetype": "text/x-python",
   "name": "python",
   "nbconvert_exporter": "python",
   "pygments_lexer": "ipython3",
   "version": "3.7.4"
  }
 },
 "nbformat": 4,
 "nbformat_minor": 2
}
