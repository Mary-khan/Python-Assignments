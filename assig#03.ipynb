{
 "cells": [
  {
   "cell_type": "code",
   "execution_count": 3,
   "metadata": {},
   "outputs": [
    {
     "name": "stdout",
     "output_type": "stream",
     "text": [
      "Calculator function for addition multiplication substraction and addition\n",
      "Enter 1st Number: 2\n",
      "Please choose your Operator '+' '-' '/' '*' '**' : **\n",
      "Enter 2nd Number: 3\n",
      "2 ** 3  =  8\n"
     ]
    }
   ],
   "source": [
    "\"\"\"q1. Make a calculator using Python with addition , subtraction , multiplication , division and power.?\"\"\"\n",
    "\n",
    "print(\"Calculator function for addition multiplication substraction and addition\")\n",
    "value_1 = int(input(\"Enter 1st Number: \"))\n",
    "opt = input(\"Please choose your Operator '+' '-' '/' '*' '**' : \")\n",
    "\n",
    "if opt == \"+\":\n",
    "    value_2 = int(input(\"Enter 2nd Number: \"))\n",
    "    val = value_1 + value_2\n",
    "    print(value_1,\" + \", value_2,\" = \",val)\n",
    "\n",
    "if opt == \"-\":\n",
    "    value_2 = int(input(\"Enter 2nd Number: \"))\n",
    "    val = value_1 - value_2\n",
    "    print(value_1,\" - \", value_2,\" = \",val)\n",
    "\n",
    "if opt == \"/\":\n",
    "    value_2 = int(input(\"Enter 2nd Number: \"))\n",
    "    val = value_1 / value_2\n",
    "    print(value_1,\" / \", value_2,\" = \",val)\n",
    "    \n",
    "if opt == \"*\":\n",
    "    value_2 = int(input(\"Enter 2nd Number: \"))\n",
    "    val = value_1 * value_2\n",
    "    print(value_1,\" x \", value_2,\" = \",val)\n",
    "    \n",
    "if opt == \"**\":\n",
    "    value_2 = int(input(\"Enter 2nd Number: \"))\n",
    "    val = value_1 ** value_2\n",
    "    print(value_1,\"**\", value_2,\" = \",val)"
   ]
  },
  {
   "cell_type": "code",
   "execution_count": 8,
   "metadata": {},
   "outputs": [
    {
     "name": "stdout",
     "output_type": "stream",
     "text": [
      "Numeric Value present in list :  92\n",
      "Numeric Value present in list :  11\n"
     ]
    }
   ],
   "source": [
    "\"\"\"Q2. Write a program to check if there is any numeric value in list using for loop?\"\"\"\n",
    "list_1 = [\"Furqan\", \"Nazir\", \"BSCS\", 92, 'A', \"SMIU\", 11, 'B']\n",
    "a = 0\n",
    "num = type(a)\n",
    "for i in list_1:\n",
    "    var = type(i)\n",
    "    if var == num:\n",
    "        print(\"Numeric Value present in list : \",i)\n",
    "    else:\n",
    "        continue"
   ]
  },
  {
   "cell_type": "code",
   "execution_count": 16,
   "metadata": {},
   "outputs": [
    {
     "data": {
      "text/plain": [
       "{'a': 10, 'b': 20, 'c': 30, 'd': 100}"
      ]
     },
     "execution_count": 16,
     "metadata": {},
     "output_type": "execute_result"
    }
   ],
   "source": [
    "\"\"\"Q3.. Write a Python script to add a key to a dictionary?\"\"\"\n",
    "\n",
    "dictionary_1 = {'a': 10, 'b':20, 'c':30}\n",
    "\n",
    "dictionary_1 [\"d\"]= 100    #method to Add a key to a dictionary\n",
    "\n",
    "dictionary_1"
   ]
  },
  {
   "cell_type": "code",
   "execution_count": 18,
   "metadata": {},
   "outputs": [
    {
     "name": "stdout",
     "output_type": "stream",
     "text": [
      "Sum of Numeric Items in a dictionary:  25\n"
     ]
    }
   ],
   "source": [
    "\"\"\"4. Write a Python program to sum all the numeric items in a dictionary?\"\"\"\n",
    "\n",
    "\n",
    "\n",
    "dictionary_mine = {'num1': 1, 'num2':3, 'num3':5, 'num4':6, 'numm5':10}\n",
    "\n",
    "x = sum(dictionary_mine.values())\n",
    "\n",
    "print(\"Sum of Numeric Items in a dictionary: \",x)"
   ]
  },
  {
   "cell_type": "code",
   "execution_count": 21,
   "metadata": {},
   "outputs": [
    {
     "name": "stdout",
     "output_type": "stream",
     "text": [
      "Duplicate Values are :  ['furqan', 3, 'A']\n"
     ]
    }
   ],
   "source": [
    "\"\"\"Q5. Write a program to identify duplicate values from list?\"\"\"\n",
    "\n",
    "new_list = [\"furqan\",1,2,3,3,4,5,'A','A',\"furqan\"]\n",
    "duplicate_values = []\n",
    "\n",
    "for i in new_list:\n",
    "    a = new_list.count(i)\n",
    "    if a > 1:\n",
    "        if i in duplicate_values:\n",
    "            continue\n",
    "        else:\n",
    "            duplicate_values.append(i)\n",
    "            \n",
    "print(\"Duplicate Values in the are following : \",duplicate_values)"
   ]
  },
  {
   "cell_type": "code",
   "execution_count": 30,
   "metadata": {},
   "outputs": [
    {
     "name": "stdout",
     "output_type": "stream",
     "text": [
      "Enter key to check existence: D_o_B\n",
      "The key : D_o_B Is Already Exist\n"
     ]
    }
   ],
   "source": [
    "\"\"\"Q6. Write a Python script to check if a given key already exists in a dictionary?\"\"\"\n",
    "\n",
    "my_data = {'Name': 'Furqan', \n",
    "           'F_name': 'Nazir',\n",
    "           'D_o_B': 1996,\n",
    "           'Age': 21,\n",
    "           'City': 'Karachi',\n",
    "           'Nationality': 'Pakistan'}\n",
    "\n",
    "key_to_check = input(\"Enter key to check existence: \")\n",
    "if key_to_check in my_data.keys():\n",
    "    print(\"The key : \" + key_to_check + \" Is Already Exist\")\n",
    "else:\n",
    "    print(\"The key : \" + key_to_check + \" Is Not Exist\")"
   ]
  },
  {
   "cell_type": "code",
   "execution_count": null,
   "metadata": {},
   "outputs": [],
   "source": []
  }
 ],
 "metadata": {
  "kernelspec": {
   "display_name": "Python 3",
   "language": "python",
   "name": "python3"
  },
  "language_info": {
   "codemirror_mode": {
    "name": "ipython",
    "version": 3
   },
   "file_extension": ".py",
   "mimetype": "text/x-python",
   "name": "python",
   "nbconvert_exporter": "python",
   "pygments_lexer": "ipython3",
   "version": "3.7.4"
  }
 },
 "nbformat": 4,
 "nbformat_minor": 2
}
